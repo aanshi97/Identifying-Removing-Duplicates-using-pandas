{
 "cells": [
  {
   "cell_type": "markdown",
   "metadata": {},
   "source": [
    "# Identifying & Removing Duplicates using pandas\n",
    " "
   ]
  },
  {
   "cell_type": "markdown",
   "metadata": {},
   "source": [
    "### Example:1"
   ]
  },
  {
   "cell_type": "code",
   "execution_count": 2,
   "metadata": {},
   "outputs": [],
   "source": [
    "import pandas as pd"
   ]
  },
  {
   "cell_type": "code",
   "execution_count": 8,
   "metadata": {},
   "outputs": [
    {
     "data": {
      "text/html": [
       "<div>\n",
       "<style scoped>\n",
       "    .dataframe tbody tr th:only-of-type {\n",
       "        vertical-align: middle;\n",
       "    }\n",
       "\n",
       "    .dataframe tbody tr th {\n",
       "        vertical-align: top;\n",
       "    }\n",
       "\n",
       "    .dataframe thead th {\n",
       "        text-align: right;\n",
       "    }\n",
       "</style>\n",
       "<table border=\"1\" class=\"dataframe\">\n",
       "  <thead>\n",
       "    <tr style=\"text-align: right;\">\n",
       "      <th></th>\n",
       "      <th>id</th>\n",
       "      <th>pro_name</th>\n",
       "      <th>score</th>\n",
       "      <th>lab_no</th>\n",
       "    </tr>\n",
       "  </thead>\n",
       "  <tbody>\n",
       "    <tr>\n",
       "      <th>0</th>\n",
       "      <td>pro1</td>\n",
       "      <td>c</td>\n",
       "      <td>89</td>\n",
       "      <td>108</td>\n",
       "    </tr>\n",
       "    <tr>\n",
       "      <th>1</th>\n",
       "      <td>pro2</td>\n",
       "      <td>c++</td>\n",
       "      <td>78</td>\n",
       "      <td>103</td>\n",
       "    </tr>\n",
       "    <tr>\n",
       "      <th>2</th>\n",
       "      <td>pro3</td>\n",
       "      <td>java</td>\n",
       "      <td>91</td>\n",
       "      <td>103</td>\n",
       "    </tr>\n",
       "    <tr>\n",
       "      <th>3</th>\n",
       "      <td>pro4</td>\n",
       "      <td>python</td>\n",
       "      <td>75</td>\n",
       "      <td>108</td>\n",
       "    </tr>\n",
       "    <tr>\n",
       "      <th>4</th>\n",
       "      <td>pro5</td>\n",
       "      <td>html</td>\n",
       "      <td>82</td>\n",
       "      <td>217</td>\n",
       "    </tr>\n",
       "    <tr>\n",
       "      <th>5</th>\n",
       "      <td>pro6</td>\n",
       "      <td>css</td>\n",
       "      <td>79</td>\n",
       "      <td>103</td>\n",
       "    </tr>\n",
       "    <tr>\n",
       "      <th>6</th>\n",
       "      <td>pro5</td>\n",
       "      <td>html</td>\n",
       "      <td>82</td>\n",
       "      <td>217</td>\n",
       "    </tr>\n",
       "    <tr>\n",
       "      <th>7</th>\n",
       "      <td>pro6</td>\n",
       "      <td>css</td>\n",
       "      <td>79</td>\n",
       "      <td>103</td>\n",
       "    </tr>\n",
       "  </tbody>\n",
       "</table>\n",
       "</div>"
      ],
      "text/plain": [
       "     id pro_name  score  lab_no\n",
       "0  pro1        c     89     108\n",
       "1  pro2      c++     78     103\n",
       "2  pro3     java     91     103\n",
       "3  pro4   python     75     108\n",
       "4  pro5     html     82     217\n",
       "5  pro6      css     79     103\n",
       "6  pro5     html     82     217\n",
       "7  pro6      css     79     103"
      ]
     },
     "execution_count": 8,
     "metadata": {},
     "output_type": "execute_result"
    }
   ],
   "source": [
    "d1 = pd.DataFrame({\n",
    "    'id':['pro1','pro2','pro3','pro4','pro5','pro6','pro5','pro6'],\n",
    "    'pro_name':['c','c++','java','python','html','css','html','css'],\n",
    "    'score':[89,78,91,75,82,79,82,79],\n",
    "    'lab_no':[108,103,103,108,217,103,217,103]\n",
    "     } , index = [0,1,2,3,4,5,6,7]\n",
    "            \n",
    ")\n",
    "d1"
   ]
  },
  {
   "cell_type": "code",
   "execution_count": 9,
   "metadata": {},
   "outputs": [
    {
     "data": {
      "text/plain": [
       "(8, 4)"
      ]
     },
     "execution_count": 9,
     "metadata": {},
     "output_type": "execute_result"
    }
   ],
   "source": [
    "d1.shape"
   ]
  },
  {
   "cell_type": "code",
   "execution_count": 12,
   "metadata": {},
   "outputs": [
    {
     "data": {
      "text/plain": [
       "2"
      ]
     },
     "execution_count": 12,
     "metadata": {},
     "output_type": "execute_result"
    }
   ],
   "source": [
    "#Identify duplicates records in the data\n",
    "\n",
    "d1.duplicated().sum()"
   ]
  },
  {
   "cell_type": "code",
   "execution_count": 13,
   "metadata": {},
   "outputs": [
    {
     "data": {
      "text/html": [
       "<div>\n",
       "<style scoped>\n",
       "    .dataframe tbody tr th:only-of-type {\n",
       "        vertical-align: middle;\n",
       "    }\n",
       "\n",
       "    .dataframe tbody tr th {\n",
       "        vertical-align: top;\n",
       "    }\n",
       "\n",
       "    .dataframe thead th {\n",
       "        text-align: right;\n",
       "    }\n",
       "</style>\n",
       "<table border=\"1\" class=\"dataframe\">\n",
       "  <thead>\n",
       "    <tr style=\"text-align: right;\">\n",
       "      <th></th>\n",
       "      <th>id</th>\n",
       "      <th>pro_name</th>\n",
       "      <th>score</th>\n",
       "      <th>lab_no</th>\n",
       "    </tr>\n",
       "  </thead>\n",
       "  <tbody>\n",
       "    <tr>\n",
       "      <th>0</th>\n",
       "      <td>pro1</td>\n",
       "      <td>c</td>\n",
       "      <td>89</td>\n",
       "      <td>108</td>\n",
       "    </tr>\n",
       "    <tr>\n",
       "      <th>1</th>\n",
       "      <td>pro2</td>\n",
       "      <td>c++</td>\n",
       "      <td>78</td>\n",
       "      <td>103</td>\n",
       "    </tr>\n",
       "    <tr>\n",
       "      <th>2</th>\n",
       "      <td>pro3</td>\n",
       "      <td>java</td>\n",
       "      <td>91</td>\n",
       "      <td>103</td>\n",
       "    </tr>\n",
       "    <tr>\n",
       "      <th>3</th>\n",
       "      <td>pro4</td>\n",
       "      <td>python</td>\n",
       "      <td>75</td>\n",
       "      <td>108</td>\n",
       "    </tr>\n",
       "    <tr>\n",
       "      <th>4</th>\n",
       "      <td>pro5</td>\n",
       "      <td>html</td>\n",
       "      <td>82</td>\n",
       "      <td>217</td>\n",
       "    </tr>\n",
       "    <tr>\n",
       "      <th>5</th>\n",
       "      <td>pro6</td>\n",
       "      <td>css</td>\n",
       "      <td>79</td>\n",
       "      <td>103</td>\n",
       "    </tr>\n",
       "  </tbody>\n",
       "</table>\n",
       "</div>"
      ],
      "text/plain": [
       "     id pro_name  score  lab_no\n",
       "0  pro1        c     89     108\n",
       "1  pro2      c++     78     103\n",
       "2  pro3     java     91     103\n",
       "3  pro4   python     75     108\n",
       "4  pro5     html     82     217\n",
       "5  pro6      css     79     103"
      ]
     },
     "execution_count": 13,
     "metadata": {},
     "output_type": "execute_result"
    }
   ],
   "source": [
    "#Removing Duplicates\n",
    "\n",
    "d1 = d1.drop_duplicates()\n",
    "d1"
   ]
  },
  {
   "cell_type": "code",
   "execution_count": 14,
   "metadata": {},
   "outputs": [
    {
     "data": {
      "text/plain": [
       "(6, 4)"
      ]
     },
     "execution_count": 14,
     "metadata": {},
     "output_type": "execute_result"
    }
   ],
   "source": [
    "d1.shape"
   ]
  },
  {
   "cell_type": "markdown",
   "metadata": {},
   "source": [
    "## Example:2"
   ]
  },
  {
   "cell_type": "code",
   "execution_count": 17,
   "metadata": {},
   "outputs": [
    {
     "data": {
      "text/html": [
       "<div>\n",
       "<style scoped>\n",
       "    .dataframe tbody tr th:only-of-type {\n",
       "        vertical-align: middle;\n",
       "    }\n",
       "\n",
       "    .dataframe tbody tr th {\n",
       "        vertical-align: top;\n",
       "    }\n",
       "\n",
       "    .dataframe thead th {\n",
       "        text-align: right;\n",
       "    }\n",
       "</style>\n",
       "<table border=\"1\" class=\"dataframe\">\n",
       "  <thead>\n",
       "    <tr style=\"text-align: right;\">\n",
       "      <th></th>\n",
       "      <th>_id</th>\n",
       "      <th>name</th>\n",
       "      <th>gender</th>\n",
       "      <th>academics</th>\n",
       "    </tr>\n",
       "  </thead>\n",
       "  <tbody>\n",
       "    <tr>\n",
       "      <th>0</th>\n",
       "      <td>5d60098a653a331687083238</td>\n",
       "      <td>Nivesh Singh Chauhan</td>\n",
       "      <td>male</td>\n",
       "      <td>undergraduate</td>\n",
       "    </tr>\n",
       "    <tr>\n",
       "      <th>1</th>\n",
       "      <td>5d610ae1653a331687083239</td>\n",
       "      <td>Gaurav Sharma</td>\n",
       "      <td>male</td>\n",
       "      <td>graduate</td>\n",
       "    </tr>\n",
       "    <tr>\n",
       "      <th>2</th>\n",
       "      <td>5d618359fc5fcf3bdd9a0910</td>\n",
       "      <td>Akshay Mishra</td>\n",
       "      <td>male</td>\n",
       "      <td>undergraduate</td>\n",
       "    </tr>\n",
       "    <tr>\n",
       "      <th>3</th>\n",
       "      <td>5d6d2bb87fa40e1417a49315</td>\n",
       "      <td>Saksham Mathur</td>\n",
       "      <td>male</td>\n",
       "      <td>undergraduate</td>\n",
       "    </tr>\n",
       "    <tr>\n",
       "      <th>4</th>\n",
       "      <td>5d7c994d5720533e15c3b1e9</td>\n",
       "      <td>Varun Chowhan</td>\n",
       "      <td>male</td>\n",
       "      <td>undergraduate</td>\n",
       "    </tr>\n",
       "  </tbody>\n",
       "</table>\n",
       "</div>"
      ],
      "text/plain": [
       "                        _id                  name gender      academics\n",
       "0  5d60098a653a331687083238  Nivesh Singh Chauhan   male  undergraduate\n",
       "1  5d610ae1653a331687083239         Gaurav Sharma   male       graduate\n",
       "2  5d618359fc5fcf3bdd9a0910         Akshay Mishra   male  undergraduate\n",
       "3  5d6d2bb87fa40e1417a49315        Saksham Mathur   male  undergraduate\n",
       "4  5d7c994d5720533e15c3b1e9         Varun Chowhan   male  undergraduate"
      ]
     },
     "execution_count": 17,
     "metadata": {},
     "output_type": "execute_result"
    }
   ],
   "source": [
    "d2= pd.read_csv('users.csv')\n",
    "d2.head()"
   ]
  },
  {
   "cell_type": "code",
   "execution_count": 16,
   "metadata": {},
   "outputs": [
    {
     "data": {
      "text/plain": [
       "(118, 4)"
      ]
     },
     "execution_count": 16,
     "metadata": {},
     "output_type": "execute_result"
    }
   ],
   "source": [
    "d2.shape"
   ]
  },
  {
   "cell_type": "code",
   "execution_count": 18,
   "metadata": {},
   "outputs": [
    {
     "data": {
      "text/html": [
       "<div>\n",
       "<style scoped>\n",
       "    .dataframe tbody tr th:only-of-type {\n",
       "        vertical-align: middle;\n",
       "    }\n",
       "\n",
       "    .dataframe tbody tr th {\n",
       "        vertical-align: top;\n",
       "    }\n",
       "\n",
       "    .dataframe thead th {\n",
       "        text-align: right;\n",
       "    }\n",
       "</style>\n",
       "<table border=\"1\" class=\"dataframe\">\n",
       "  <thead>\n",
       "    <tr style=\"text-align: right;\">\n",
       "      <th></th>\n",
       "      <th>_id</th>\n",
       "      <th>name</th>\n",
       "      <th>gender</th>\n",
       "      <th>academics</th>\n",
       "    </tr>\n",
       "  </thead>\n",
       "  <tbody>\n",
       "    <tr>\n",
       "      <th>0</th>\n",
       "      <td>5d60098a653a331687083238</td>\n",
       "      <td>Nivesh Singh Chauhan</td>\n",
       "      <td>male</td>\n",
       "      <td>undergraduate</td>\n",
       "    </tr>\n",
       "    <tr>\n",
       "      <th>1</th>\n",
       "      <td>5d610ae1653a331687083239</td>\n",
       "      <td>Gaurav Sharma</td>\n",
       "      <td>male</td>\n",
       "      <td>graduate</td>\n",
       "    </tr>\n",
       "    <tr>\n",
       "      <th>2</th>\n",
       "      <td>5d618359fc5fcf3bdd9a0910</td>\n",
       "      <td>Akshay Mishra</td>\n",
       "      <td>male</td>\n",
       "      <td>undergraduate</td>\n",
       "    </tr>\n",
       "    <tr>\n",
       "      <th>3</th>\n",
       "      <td>5d6d2bb87fa40e1417a49315</td>\n",
       "      <td>Saksham Mathur</td>\n",
       "      <td>male</td>\n",
       "      <td>undergraduate</td>\n",
       "    </tr>\n",
       "    <tr>\n",
       "      <th>4</th>\n",
       "      <td>5d7c994d5720533e15c3b1e9</td>\n",
       "      <td>Varun Chowhan</td>\n",
       "      <td>male</td>\n",
       "      <td>undergraduate</td>\n",
       "    </tr>\n",
       "    <tr>\n",
       "      <th>5</th>\n",
       "      <td>5d90fc1a641ef364939fb6cc</td>\n",
       "      <td>Boshi Kaviya</td>\n",
       "      <td>female</td>\n",
       "      <td>graduate</td>\n",
       "    </tr>\n",
       "    <tr>\n",
       "      <th>6</th>\n",
       "      <td>5d9a2982979d5962253c2f81</td>\n",
       "      <td>Nischaya Sharma</td>\n",
       "      <td>male</td>\n",
       "      <td>undergraduate</td>\n",
       "    </tr>\n",
       "    <tr>\n",
       "      <th>7</th>\n",
       "      <td>5de50d768eab6401affbb135</td>\n",
       "      <td>thesocialcomment</td>\n",
       "      <td>male</td>\n",
       "      <td>graduate</td>\n",
       "    </tr>\n",
       "    <tr>\n",
       "      <th>8</th>\n",
       "      <td>5ded443342a8854bf6eaba9a</td>\n",
       "      <td>MAAZ AHMAD RABBANI</td>\n",
       "      <td>male</td>\n",
       "      <td>undergraduate</td>\n",
       "    </tr>\n",
       "    <tr>\n",
       "      <th>9</th>\n",
       "      <td>5deeef6142a8854bf6eabab9</td>\n",
       "      <td>siddharth saxena</td>\n",
       "      <td>male</td>\n",
       "      <td>undergraduate</td>\n",
       "    </tr>\n",
       "  </tbody>\n",
       "</table>\n",
       "</div>"
      ],
      "text/plain": [
       "                        _id                  name  gender      academics\n",
       "0  5d60098a653a331687083238  Nivesh Singh Chauhan    male  undergraduate\n",
       "1  5d610ae1653a331687083239         Gaurav Sharma    male       graduate\n",
       "2  5d618359fc5fcf3bdd9a0910         Akshay Mishra    male  undergraduate\n",
       "3  5d6d2bb87fa40e1417a49315        Saksham Mathur    male  undergraduate\n",
       "4  5d7c994d5720533e15c3b1e9         Varun Chowhan    male  undergraduate\n",
       "5  5d90fc1a641ef364939fb6cc          Boshi Kaviya  female       graduate\n",
       "6  5d9a2982979d5962253c2f81       Nischaya Sharma    male  undergraduate\n",
       "7  5de50d768eab6401affbb135      thesocialcomment    male       graduate\n",
       "8  5ded443342a8854bf6eaba9a    MAAZ AHMAD RABBANI    male  undergraduate\n",
       "9  5deeef6142a8854bf6eabab9      siddharth saxena    male  undergraduate"
      ]
     },
     "execution_count": 18,
     "metadata": {},
     "output_type": "execute_result"
    }
   ],
   "source": [
    "d3= d2.drop(d2.index[[i for i in range(10,118,1)]])\n",
    "d3"
   ]
  },
  {
   "cell_type": "code",
   "execution_count": 19,
   "metadata": {},
   "outputs": [
    {
     "data": {
      "text/plain": [
       "(10, 4)"
      ]
     },
     "execution_count": 19,
     "metadata": {},
     "output_type": "execute_result"
    }
   ],
   "source": [
    "d3.shape"
   ]
  },
  {
   "cell_type": "code",
   "execution_count": 22,
   "metadata": {},
   "outputs": [
    {
     "data": {
      "text/html": [
       "<div>\n",
       "<style scoped>\n",
       "    .dataframe tbody tr th:only-of-type {\n",
       "        vertical-align: middle;\n",
       "    }\n",
       "\n",
       "    .dataframe tbody tr th {\n",
       "        vertical-align: top;\n",
       "    }\n",
       "\n",
       "    .dataframe thead th {\n",
       "        text-align: right;\n",
       "    }\n",
       "</style>\n",
       "<table border=\"1\" class=\"dataframe\">\n",
       "  <thead>\n",
       "    <tr style=\"text-align: right;\">\n",
       "      <th></th>\n",
       "      <th>_id</th>\n",
       "      <th>name</th>\n",
       "      <th>gender</th>\n",
       "      <th>academics</th>\n",
       "    </tr>\n",
       "  </thead>\n",
       "  <tbody>\n",
       "    <tr>\n",
       "      <th>0</th>\n",
       "      <td>5d60098a653a331687083238</td>\n",
       "      <td>Nivesh Singh Chauhan</td>\n",
       "      <td>male</td>\n",
       "      <td>undergraduate</td>\n",
       "    </tr>\n",
       "    <tr>\n",
       "      <th>1</th>\n",
       "      <td>5d610ae1653a331687083239</td>\n",
       "      <td>Gaurav Sharma</td>\n",
       "      <td>male</td>\n",
       "      <td>graduate</td>\n",
       "    </tr>\n",
       "    <tr>\n",
       "      <th>2</th>\n",
       "      <td>5d618359fc5fcf3bdd9a0910</td>\n",
       "      <td>Akshay Mishra</td>\n",
       "      <td>male</td>\n",
       "      <td>undergraduate</td>\n",
       "    </tr>\n",
       "    <tr>\n",
       "      <th>3</th>\n",
       "      <td>5d6d2bb87fa40e1417a49315</td>\n",
       "      <td>Saksham Mathur</td>\n",
       "      <td>male</td>\n",
       "      <td>undergraduate</td>\n",
       "    </tr>\n",
       "    <tr>\n",
       "      <th>4</th>\n",
       "      <td>5d7c994d5720533e15c3b1e9</td>\n",
       "      <td>Varun Chowhan</td>\n",
       "      <td>male</td>\n",
       "      <td>undergraduate</td>\n",
       "    </tr>\n",
       "  </tbody>\n",
       "</table>\n",
       "</div>"
      ],
      "text/plain": [
       "                        _id                  name gender      academics\n",
       "0  5d60098a653a331687083238  Nivesh Singh Chauhan   male  undergraduate\n",
       "1  5d610ae1653a331687083239         Gaurav Sharma   male       graduate\n",
       "2  5d618359fc5fcf3bdd9a0910         Akshay Mishra   male  undergraduate\n",
       "3  5d6d2bb87fa40e1417a49315        Saksham Mathur   male  undergraduate\n",
       "4  5d7c994d5720533e15c3b1e9         Varun Chowhan   male  undergraduate"
      ]
     },
     "execution_count": 22,
     "metadata": {},
     "output_type": "execute_result"
    }
   ],
   "source": [
    "d4= pd.concat([d2,d3])\n",
    "d4.head()"
   ]
  },
  {
   "cell_type": "code",
   "execution_count": 21,
   "metadata": {},
   "outputs": [
    {
     "data": {
      "text/plain": [
       "(128, 4)"
      ]
     },
     "execution_count": 21,
     "metadata": {},
     "output_type": "execute_result"
    }
   ],
   "source": [
    "d4.shape"
   ]
  },
  {
   "cell_type": "code",
   "execution_count": 23,
   "metadata": {},
   "outputs": [
    {
     "data": {
      "text/plain": [
       "10"
      ]
     },
     "execution_count": 23,
     "metadata": {},
     "output_type": "execute_result"
    }
   ],
   "source": [
    "#Identify duplicates records in the dataset d4\n",
    "\n",
    "d4.duplicated().sum()"
   ]
  },
  {
   "cell_type": "code",
   "execution_count": 26,
   "metadata": {},
   "outputs": [
    {
     "data": {
      "text/html": [
       "<div>\n",
       "<style scoped>\n",
       "    .dataframe tbody tr th:only-of-type {\n",
       "        vertical-align: middle;\n",
       "    }\n",
       "\n",
       "    .dataframe tbody tr th {\n",
       "        vertical-align: top;\n",
       "    }\n",
       "\n",
       "    .dataframe thead th {\n",
       "        text-align: right;\n",
       "    }\n",
       "</style>\n",
       "<table border=\"1\" class=\"dataframe\">\n",
       "  <thead>\n",
       "    <tr style=\"text-align: right;\">\n",
       "      <th></th>\n",
       "      <th>_id</th>\n",
       "      <th>name</th>\n",
       "      <th>gender</th>\n",
       "      <th>academics</th>\n",
       "    </tr>\n",
       "  </thead>\n",
       "  <tbody>\n",
       "    <tr>\n",
       "      <th>0</th>\n",
       "      <td>5d60098a653a331687083238</td>\n",
       "      <td>Nivesh Singh Chauhan</td>\n",
       "      <td>male</td>\n",
       "      <td>undergraduate</td>\n",
       "    </tr>\n",
       "    <tr>\n",
       "      <th>1</th>\n",
       "      <td>5d610ae1653a331687083239</td>\n",
       "      <td>Gaurav Sharma</td>\n",
       "      <td>male</td>\n",
       "      <td>graduate</td>\n",
       "    </tr>\n",
       "    <tr>\n",
       "      <th>2</th>\n",
       "      <td>5d618359fc5fcf3bdd9a0910</td>\n",
       "      <td>Akshay Mishra</td>\n",
       "      <td>male</td>\n",
       "      <td>undergraduate</td>\n",
       "    </tr>\n",
       "    <tr>\n",
       "      <th>3</th>\n",
       "      <td>5d6d2bb87fa40e1417a49315</td>\n",
       "      <td>Saksham Mathur</td>\n",
       "      <td>male</td>\n",
       "      <td>undergraduate</td>\n",
       "    </tr>\n",
       "    <tr>\n",
       "      <th>4</th>\n",
       "      <td>5d7c994d5720533e15c3b1e9</td>\n",
       "      <td>Varun Chowhan</td>\n",
       "      <td>male</td>\n",
       "      <td>undergraduate</td>\n",
       "    </tr>\n",
       "  </tbody>\n",
       "</table>\n",
       "</div>"
      ],
      "text/plain": [
       "                        _id                  name gender      academics\n",
       "0  5d60098a653a331687083238  Nivesh Singh Chauhan   male  undergraduate\n",
       "1  5d610ae1653a331687083239         Gaurav Sharma   male       graduate\n",
       "2  5d618359fc5fcf3bdd9a0910         Akshay Mishra   male  undergraduate\n",
       "3  5d6d2bb87fa40e1417a49315        Saksham Mathur   male  undergraduate\n",
       "4  5d7c994d5720533e15c3b1e9         Varun Chowhan   male  undergraduate"
      ]
     },
     "execution_count": 26,
     "metadata": {},
     "output_type": "execute_result"
    }
   ],
   "source": [
    "#Removing Duplicates\n",
    "\n",
    "d5 = d4.drop_duplicates()\n",
    "d5.head()"
   ]
  },
  {
   "cell_type": "code",
   "execution_count": 25,
   "metadata": {},
   "outputs": [
    {
     "data": {
      "text/plain": [
       "(118, 4)"
      ]
     },
     "execution_count": 25,
     "metadata": {},
     "output_type": "execute_result"
    }
   ],
   "source": [
    "d5.shape"
   ]
  },
  {
   "cell_type": "code",
   "execution_count": null,
   "metadata": {},
   "outputs": [],
   "source": []
  }
 ],
 "metadata": {
  "kernelspec": {
   "display_name": "Python 3",
   "language": "python",
   "name": "python3"
  },
  "language_info": {
   "codemirror_mode": {
    "name": "ipython",
    "version": 3
   },
   "file_extension": ".py",
   "mimetype": "text/x-python",
   "name": "python",
   "nbconvert_exporter": "python",
   "pygments_lexer": "ipython3",
   "version": "3.6.5"
  }
 },
 "nbformat": 4,
 "nbformat_minor": 2
}
